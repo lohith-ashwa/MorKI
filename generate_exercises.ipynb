{
 "cells": [
  {
   "cell_type": "code",
   "execution_count": 2,
   "metadata": {},
   "outputs": [],
   "source": [
    "from google import genai\n",
    "from keys import gemini_API_key\n",
    "import json\n",
    "import re\n",
    "\n",
    "client = genai.Client(api_key=gemini_API_key)\n",
    "model = \"gemini-2.0-flash\"\n"
   ]
  },
  {
   "cell_type": "code",
   "execution_count": 3,
   "metadata": {},
   "outputs": [],
   "source": [
    "def generate_text(prompt):\n",
    "    response = client.models.generate_content(\n",
    "    model=model,\n",
    "    contents=prompt,\n",
    ")\n",
    "    return response.text\n"
   ]
  },
  {
   "cell_type": "code",
   "execution_count": 4,
   "metadata": {},
   "outputs": [],
   "source": [
    "def remove_markdown(text):\n",
    "    # Remove any markdown formatting\n",
    "    pattern = r'```json|```'\n",
    "    # Substitute with empty string\n",
    "    cleaned_text = re.sub(pattern, '', text)\n",
    "    return cleaned_text"
   ]
  },
  {
   "cell_type": "code",
   "execution_count": 5,
   "metadata": {},
   "outputs": [],
   "source": [
    "def extract_important_words(text, nr_of_words):\n",
    "    # returns most important words in text as a list of strings\n",
    "    prompt = f\"Extract the {nr_of_words} most important Dutch words from the following Dutch text. Give it as an JSON array named 'words' Do not add the json markdown formatting, just plain text. Text:\\n {text}\"\n",
    "    important_words_string = generate_text(prompt)\n",
    "    important_words_string = remove_markdown(important_words_string)\n",
    "    words = json.loads(important_words_string)['words']\n",
    "    return words\n",
    "\n"
   ]
  },
  {
   "cell_type": "code",
   "execution_count": null,
   "metadata": {},
   "outputs": [],
   "source": [
    "text = \"Na ruim 70 jaar hebben Curaçao en Sint-Maarten een nieuw betaalmiddel. De Antilliaanse gulden, sinds 1952 de munt van de twee eilanden, maakt plaats voor de Caribische gulden. Volgens directeur-secretaris Leila Matroos van de Centrale Bank van Curaçao en Sint-Maarten (CBCS) wordt de oude munt vervangen door 'iets van ons'. 'Met trots presenteer ik u de Caribische gulden, onze nieuwe munteenheid. Het is een moment om stil te staan, bij wat we samen hebben bereikt.'\"\n",
    "x = extract_important_words(text=text, nr_of_words=5)"
   ]
  },
  {
   "cell_type": "code",
   "execution_count": 6,
   "metadata": {},
   "outputs": [],
   "source": [
    "def extract_morphemes(words):\n",
    "    prompt = f\"Identify the morphemes in the following Dutch words and structure the result as a JSON object. The JSON should contain a 'words' list, where each word is represented as an object with three keys: 'word' (containing the word), 'free' (for free morphemes) and 'bound' (for bound morphemes). The 'bound' morphemes should be further categorized into 'prefixes', 'suffixes', and 'other'. DO NOT include markdown JSON formatting syntax like triple backticks in your answer. Only return the JSON structure as plain text. Words:\\n{words}\"\n",
    "    morphemes_string = generate_text(prompt)\n",
    "    morphemes_string = remove_markdown(morphemes_string)\n",
    "    print(morphemes_string)\n",
    "    morphemes = json.loads(morphemes_string)['words']\n",
    "    return morphemes\n"
   ]
  },
  {
   "cell_type": "code",
   "execution_count": 41,
   "metadata": {},
   "outputs": [
    {
     "name": "stdout",
     "output_type": "stream",
     "text": [
      "\n",
      "{\n",
      "  \"words\": [\n",
      "    {\n",
      "      \"word\": \"vuurwerkverbod\",\n",
      "      \"free\": [\"vuur\", \"werk\", \"bod\"],\n",
      "      \"bound\": {\n",
      "        \"prefixes\": [],\n",
      "        \"suffixes\": [],\n",
      "        \"other\": []\n",
      "      }\n",
      "    },\n",
      "    {\n",
      "      \"word\": \"meerderheid\",\n",
      "      \"free\": [\"meer\", \"heid\"],\n",
      "      \"bound\": {\n",
      "        \"prefixes\": [],\n",
      "        \"suffixes\": [],\n",
      "        \"other\": [\"der\"]\n",
      "      }\n",
      "    },\n",
      "    {\n",
      "      \"word\": \"kamerleden\",\n",
      "      \"free\": [\"kamer\", \"leden\"],\n",
      "      \"bound\": {\n",
      "        \"prefixes\": [],\n",
      "        \"suffixes\": [],\n",
      "        \"other\": []\n",
      "      }\n",
      "    },\n",
      "    {\n",
      "      \"word\": \"belangrijker\",\n",
      "      \"free\": [\"belang\", \"rijk\"],\n",
      "      \"bound\": {\n",
      "        \"prefixes\": [],\n",
      "        \"suffixes\": [\"er\"],\n",
      "        \"other\": []\n",
      "      }\n",
      "    },\n",
      "    {\n",
      "      \"word\": \"ondersteuning\",\n",
      "      \"free\": [\"steun\"],\n",
      "      \"bound\": {\n",
      "        \"prefixes\": [\"onder\"],\n",
      "        \"suffixes\": [\"ing\"],\n",
      "        \"other\": []\n",
      "      }\n",
      "    }\n",
      "  ]\n",
      "}\n",
      "\n",
      "[{'word': 'vuurwerkverbod', 'free': ['vuur', 'werk', 'bod'], 'bound': {'prefixes': [], 'suffixes': [], 'other': []}}, {'word': 'meerderheid', 'free': ['meer', 'heid'], 'bound': {'prefixes': [], 'suffixes': [], 'other': ['der']}}, {'word': 'kamerleden', 'free': ['kamer', 'leden'], 'bound': {'prefixes': [], 'suffixes': [], 'other': []}}, {'word': 'belangrijker', 'free': ['belang', 'rijk'], 'bound': {'prefixes': [], 'suffixes': ['er'], 'other': []}}, {'word': 'ondersteuning', 'free': ['steun'], 'bound': {'prefixes': ['onder'], 'suffixes': ['ing'], 'other': []}}]\n"
     ]
    }
   ],
   "source": [
    "words = [\"vuurwerkverbod\", \"meerderheid\", \"kamerleden\", \"belangrijker\", \"ondersteuning\"]\n",
    "morphemes = extract_morphemes(words=words)\n",
    "print(morphemes)"
   ]
  },
  {
   "cell_type": "code",
   "execution_count": 47,
   "metadata": {},
   "outputs": [
    {
     "name": "stdout",
     "output_type": "stream",
     "text": [
      "{'word': 'meerderheid', 'free': ['meer', 'heid'], 'bound': {'prefixes': [], 'suffixes': [], 'other': ['der']}}\n"
     ]
    }
   ],
   "source": [
    "x = morphemes[1]\n",
    "print(x)"
   ]
  },
  {
   "cell_type": "code",
   "execution_count": 7,
   "metadata": {},
   "outputs": [],
   "source": [
    "def exercise_identify(dict_word):\n",
    "    \"\"\"\n",
    "    Generates an identify exercise for the given word\n",
    "    expects a dict object with the following structure:\n",
    "    {\n",
    "        \"word\": \"vuurwerkverboden\",\n",
    "        \"free\": [\"vuur\", \"werk\", \"verbod\"],\n",
    "        \"bound\": {\n",
    "            \"prefixes\": [],\n",
    "            \"suffixes\": [\"en\"],\n",
    "            \"other\": []\n",
    "    }\n",
    "    \"\"\"\n",
    "    word = dict_word['word']\n",
    "    free = dict_word['free']\n",
    "    bound = dict_word['bound']\n",
    "    prefixes = bound['prefixes']\n",
    "    suffixes = bound['suffixes']\n",
    "    other = bound['other']\n",
    "\n",
    "    exercise_text = f\"Identify the free and bound morphemes in the following word: {word}.\"\n",
    "    answer_text = f\"Free morphemes: {free}. Bound morphemes: {bound}\"\n",
    "    \n",
    "    # I think the return should probably be a JSON string to communicate with the frontend but for now its a tuple\n",
    "    return (exercise_text, answer_text)\n",
    "\n",
    "# x = exercise_identify(x)\n",
    "# print(f\"Question: {x[0]}\")\n",
    "# print(f\"Answer: {x[1]}\")\n",
    "\n"
   ]
  },
  {
   "cell_type": "code",
   "execution_count": 8,
   "metadata": {},
   "outputs": [],
   "source": [
    "def exercise_fill_in_the_blank(dict_word):\n",
    "    \"\"\"\n",
    "    Generates a fill in the blanks exercise for the given word\n",
    "    expects a dict object with the following structure:\n",
    "    {\n",
    "        \"word\": \"vuurwerkverboden\",\n",
    "        ...\n",
    "    }\n",
    "    \"\"\"\n",
    "    word = dict_word['word']\n",
    "    prompt = f\"Generate a Dutch sentence containing the Dutch word '{word}', but in a changed form. For example, change the tense, make it plural, make it dimminiative, or anything else (but don't add new words to the word). Make sure the sentence is grammatically correct. The sentence should be a complete sentence and not just a fragment. Return your answer formatted as JSON with two keys: sentence (containing the full sentence including the word) and word (containing the modified word)  Do not include any markdown formatting like triple backticks in your answer. Just return the plain text of the sentence.\"\t\n",
    "    output_json = generate_text(prompt)\n",
    "    output = remove_markdown(output_json)\n",
    "    output = json.loads(output)\n",
    "    sentence = output['sentence']\n",
    "    modified_word = output['word']\n",
    "    sentence_blanked = re.sub(modified_word, '_____', sentence)\n",
    "    exercise_text = f\"Fill in the blank in the following sentence: \\n ({word}) {sentence_blanked}\"\n",
    "    answer_text = modified_word\n",
    "    # I think the return should probably be a JSON string to communicate with the frontend but for now its a tuple\n",
    "    return exercise_text, answer_text\n",
    "    \n",
    "    "
   ]
  },
  {
   "cell_type": "code",
   "execution_count": null,
   "metadata": {},
   "outputs": [
    {
     "name": "stdout",
     "output_type": "stream",
     "text": [
      "Question: Fill in the blank in the following sentence: \n",
      " (vervuilen) De _____ rivier stroomde langzaam verder.\n",
      "Answer: vervuilde\n"
     ]
    }
   ],
   "source": [
    "dict = {'word': \"vervuilen\"}\n",
    "y = exercise_fill_in_the_blank(dict_word=dict)\n",
    "print(f\"Question: {y[0]}\")\n",
    "print(f\"Answer: {y[1]}\")\n",
    "\n"
   ]
  },
  {
   "cell_type": "markdown",
   "metadata": {},
   "source": [
    "## FULL PIPELINE"
   ]
  },
  {
   "cell_type": "code",
   "execution_count": 9,
   "metadata": {},
   "outputs": [
    {
     "name": "stdout",
     "output_type": "stream",
     "text": [
      "Important words: ['bijen', 'bloem', 'nectar', 'honing', 'bijenkorf']\n",
      "{\n",
      "  \"words\": [\n",
      "    {\n",
      "      \"word\": \"bijen\",\n",
      "      \"free\": [\"bij\"],\n",
      "      \"bound\": {\n",
      "        \"prefixes\": [],\n",
      "        \"suffixes\": [\"-en\"],\n",
      "        \"other\": []\n",
      "      }\n",
      "    },\n",
      "    {\n",
      "      \"word\": \"bloem\",\n",
      "      \"free\": [\"bloem\"],\n",
      "      \"bound\": {\n",
      "        \"prefixes\": [],\n",
      "        \"suffixes\": [],\n",
      "        \"other\": []\n",
      "      }\n",
      "    },\n",
      "    {\n",
      "      \"word\": \"nectar\",\n",
      "      \"free\": [\"nectar\"],\n",
      "      \"bound\": {\n",
      "        \"prefixes\": [],\n",
      "        \"suffixes\": [],\n",
      "        \"other\": []\n",
      "      }\n",
      "    },\n",
      "    {\n",
      "      \"word\": \"honing\",\n",
      "      \"free\": [\"honing\"],\n",
      "      \"bound\": {\n",
      "        \"prefixes\": [],\n",
      "        \"suffixes\": [],\n",
      "        \"other\": []\n",
      "      }\n",
      "    },\n",
      "    {\n",
      "      \"word\": \"bijenkorf\",\n",
      "      \"free\": [\"bij\", \"korf\"],\n",
      "      \"bound\": {\n",
      "        \"prefixes\": [],\n",
      "        \"suffixes\": [\"-en\"],\n",
      "        \"other\": []\n",
      "      }\n",
      "    }\n",
      "  ]\n",
      "}\n",
      "\n",
      "Exercises:\n",
      "Question: Identify the free and bound morphemes in the following word: bijen.\n",
      "Answer: Free morphemes: ['bij']. Bound morphemes: {'prefixes': [], 'suffixes': ['-en'], 'other': []}\n",
      "Question: Fill in the blank in the following sentence: \n",
      " (bloem) De _____ stonden vrolijk in de vaas.\n",
      "Answer: bloemetjes\n"
     ]
    }
   ],
   "source": [
    "text = \"Hallo kinderen! Vandaag gaan we een spannende reis maken naar de wonderlijke wereld van bijen. Bijen zijn hele kleine, maar superbelangrijke beestjes voor onze natuur en zelfs voor ons eten!Wat zijn bijen?Bijen zijn insecten die heel goed zijn in bestuiven. Dat betekent dat ze stuifmeel van de ene bloem naar de andere brengen. Zo helpen ze planten om vruchten te maken, zoals appels en kersen. Er zijn heel veel verschillende soorten bijen, maar de meeste wonen samen in een bijenkorf.Hoe leven bijen?In een bijenkorf woont een grote bijenfamilie. Er is een koninginbij, werkbijen, en mannetjesbijen. De koningin is de enige die eitjes legt. De werkbijen doen bijna al het werk: ze verzamelen nectar, maken honing, poetsen de bijenkorf, en zorgen voor de babybijtjes. De mannetjesbijen helpen de koningin met het krijgen van nieuwe bijtjes.\"\n",
    "important_words = extract_important_words(text=text, nr_of_words=5)\n",
    "print(f\"Important words: {important_words}\")\n",
    "morphemes = extract_morphemes(words=important_words)\n",
    "print(\"Exercises:\")\n",
    "x = exercise_identify(morphemes[0])\n",
    "y = exercise_fill_in_the_blank(morphemes[1])\n",
    "print(f\"Question: {x[0]}\")\n",
    "print(f\"Answer: {x[1]}\")\n",
    "print(f\"Question: {y[0]}\")\n",
    "print(f\"Answer: {y[1]}\")\n"
   ]
  }
 ],
 "metadata": {
  "kernelspec": {
   "display_name": "Python 3",
   "language": "python",
   "name": "python3"
  },
  "language_info": {
   "codemirror_mode": {
    "name": "ipython",
    "version": 3
   },
   "file_extension": ".py",
   "mimetype": "text/x-python",
   "name": "python",
   "nbconvert_exporter": "python",
   "pygments_lexer": "ipython3",
   "version": "3.12.8"
  }
 },
 "nbformat": 4,
 "nbformat_minor": 2
}
